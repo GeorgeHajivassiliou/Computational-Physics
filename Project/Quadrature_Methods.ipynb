{
  "cells": [
    {
      "metadata": {
        "collapsed": true
      },
      "cell_type": "markdown",
      "source": "# Project 2: Solving quantum systems numerically"
    },
    {
      "metadata": {},
      "cell_type": "markdown",
      "source": "## Part 1: Quadrature Rules"
    },
    {
      "metadata": {
        "trusted": true
      },
      "cell_type": "code",
      "source": "import numpy as np\nimport matplotlib.pyplot as plt",
      "execution_count": 18,
      "outputs": []
    },
    {
      "metadata": {
        "trusted": true
      },
      "cell_type": "code",
      "source": "#defining our wavefunction and plotting it looks like a good start#\n#actually what is usefull here the wavefunction squared:\n\ndef psi_squared(z):\n    return (1 / np.sqrt(np.pi)) * np.exp(-(z*z))\n\n#create some z-space\nzspace = np.linspace(-5,5,100)\n\n#plot\n\nplt.plot(zspace,psi_squared(zspace),color = \"blue\",label = \"Single Particle Wavefunction\")\nplt.grid()\nplt.xlabel(\"z\")\nplt.ylabel(\"Probability Density\")\n#plt.legend(loc = \"lower right\")",
      "execution_count": 19,
      "outputs": [
        {
          "output_type": "execute_result",
          "execution_count": 19,
          "data": {
            "text/plain": "Text(0, 0.5, 'Probability Density')"
          },
          "metadata": {}
        },
        {
          "output_type": "display_data",
          "data": {
            "image/png": "[encoded data removed]",
            "text/plain": "<Figure size 432x288 with 1 Axes>"
          },
          "metadata": {
            "needs_background": "light"
          }
        }
      ]
    },
    {
      "metadata": {
        "trusted": true
      },
      "cell_type": "code",
      "source": "#I will try ti implement the extended trapezium rule\n#this is not as straight forward as it first seemed\n#I will define a simple function (of which I know the integral) to integrate over\n\ndef curve(x):\n    return 3 * x * x\n\n#get some plotting space\nxspace = np.linspace(0,2,100)\n\nplt.plot(xspace,curve(xspace), color = \"blue\")\nplt.xlabel(\"$x$\")\nplt.ylabel(\"f$(x)$\")\nplt.grid()\nplt.show()",
      "execution_count": 20,
      "outputs": [
        {
          "output_type": "display_data",
          "data": {
            "image/png": "[encoded data removed]",
            "text/plain": "<Figure size 432x288 with 1 Axes>"
          },
          "metadata": {
            "needs_background": "light"
          }
        }
      ]
    },
    {
      "metadata": {
        "trusted": true
      },
      "cell_type": "code",
      "source": "#it simple to see that the integral of the above is X^3 and therefore for 0 to 2 it equals 8\n\ndef trap_integrate(f,a,b,epsilon):\n    \n    '''\n    This function numerically integrates a function f in[a,b] with a relative accuracy of epsilon\n    using the extended trapezium rule.\n    This function returns an array of the form [Integral,error,Number of Function Evaluations,epsilon]\n    '''\n    \n    h = b - a\n    #print(h)\n    I = h * (f(a) + f(b)) / 2 #this is the inital guess of the integral\n    #print (I)\n    accuracy = np.inf\n    h /= 2\n    N = 1 #this is the number of samples we are going to get in every itteration ; \n    c = 2  \n    while accuracy > epsilon:\n        \n        S = 0\n        for i in range(0,N):\n            #print (\"i is =\",i)\n            c +=1 #different way of counting\n            S += f(a+h+ i*(2*h)) #we move between the gaps to sample the midpoints, \n                                    #of the points that have been sampled before. \n    \n        Inew = I/2 + h*S\n        accuracy = np.abs((I - Inew) / I)\n        I = Inew        \n        N *= 2\n        h /= 2\n        \n        error = I * accuracy\n        \n        #To get the total number of function evalations we need to sum all the values of N\n        # of course since these are powers of 2 then 1 + 2 + 4 + ... N/2 + N is equalt to 2N-1 \n    print (\"The integral of the function from \" + str(a) + \" to \" + str(b) + \" is \" +str(I) +\" +- \" + str(error))\n    print (\"The number of function evaluations required was \" + str(N+1))\n    print (c) # see is more reliable I think\n    \n    return[I,error,(N+1),epsilon]\n\n#trap_integrate(curve,0,2,1E-6)",
      "execution_count": 21,
      "outputs": []
    },
    {
      "metadata": {
        "trusted": true
      },
      "cell_type": "code",
      "source": "#now it's time to check the routine on the wavefunction:\na = 0\nb = 2\ne = 1E-13\ntrap_integrate(psi_squared,a,b,e)",
      "execution_count": 22,
      "outputs": [
        {
          "output_type": "stream",
          "text": "The integral of the function from 0 to 2 is 0.4976611325094576 +- 3.391731340230085e-14\nThe number of function evaluations required was 1048577\n1048577\n",
          "name": "stdout"
        },
        {
          "output_type": "execute_result",
          "execution_count": 22,
          "data": {
            "text/plain": "[0.4976611325094576, 3.391731340230085e-14, 1048577, 1e-13]"
          },
          "metadata": {}
        }
      ]
    },
    {
      "metadata": {
        "trusted": true
      },
      "cell_type": "code",
      "source": "#a way to verify this is to ensure that it gives a value of 1 (since the wavefunction is normalised) \na = -10\nb = 10\ne = 1E-3\ntrap_integrate(psi_squared,a,b,e)\n#yes the integral is one in with the current machine accuracy\n#python uses doble prescision floats so I think this is good enough\n#also no the low relative accuracy we need to achieve this",
      "execution_count": 23,
      "outputs": [
        {
          "output_type": "stream",
          "text": "The integral of the function from -10 to 10 is 1.0 +- 2.128430764924078e-11\nThe number of function evaluations required was 65\n65\n",
          "name": "stdout"
        },
        {
          "output_type": "execute_result",
          "execution_count": 23,
          "data": {
            "text/plain": "[1.0, 2.128430764924078e-11, 65, 0.001]"
          },
          "metadata": {}
        }
      ]
    },
    {
      "metadata": {
        "trusted": true
      },
      "cell_type": "code",
      "source": "#let's do the same for Simpson's rule\n#I think that that best way is to base it on the previous algorythm",
      "execution_count": 24,
      "outputs": []
    },
    {
      "metadata": {
        "trusted": true
      },
      "cell_type": "code",
      "source": "def sim_integrate(f,a,b,epsilon):\n    \n    '''\n    This function numerically integrates a function f in [a,b] with a relative accuracy of epsilon\n    using Simpson's rule (as related to the extended trapezium rule).\n    This function returns an array of the form [Integral,error,Number of Function Evaluations,epsilon]\n    '''    \n    \n    h = b - a\n    #print(h)\n    I = h * (f(a) + f(b)) / 2 #this is the inital guess of the integral\n    #print (I)\n    accuracy = np.inf\n    h /= 2\n    N = 1 #this is the number of samples we are going to get in every itteration ;     \n    c = 2\n    Simpson = I\n    while accuracy > epsilon:\n        \n        S = 0\n        for i in range(0,N):\n            #print (\"i is =\",i) \n            c += 1\n            S += f(a+h+ i*(2*h)) #we move between the gaps to sample the midpoints of the points that have been sampled before. \n    \n        Inew = I/2 + h*S    \n        Simpson_new = (4/3) * Inew - (1/3)*I  #estimated of the integral using Simpson's rule expressed in results of the \n                                                #trapezium rule\n        accuracy = np.abs((Simpson - Simpson_new) / Simpson)\n        \n        Simpson = Simpson_new      #note tha the two values of the \"Simpson\" variable  are note stored becuase they are needed\n                                    #for the evaluation of the integral. This is done purely for evaluating the accuracy\n        I = Inew        \n        N *= 2\n        h /= 2\n        \n        #what about the error on our estimate of the integral?\n        error = Simpson * accuracy\n        \n        #To get the total number of function evalations we need to sum all the values of N\n        # of course since these are powers of 2 then 1 + 2 + 4 + ... N/2 + N is equalt to 2N-1 \n    print (\"The integral of the function from \" + str(a) + \" to \" + str(b) + \" is \" +str(Simpson) +\" +- \" + str(error))\n    print (\"The number of function evaluations required was \" + str(N + 1))\n    print (c) \n    return [Simpson,error,(N+1),epsilon]\n\n#sim_integrate(curve,0,2,1E-6)",
      "execution_count": 25,
      "outputs": []
    },
    {
      "metadata": {
        "trusted": true
      },
      "cell_type": "code",
      "source": "#Simpson's rule seems to be amazingly fast!\n#let's see what it does for the wavefunction\nsim_integrate(psi_squared,0,2,1E-10)",
      "execution_count": 26,
      "outputs": [
        {
          "output_type": "stream",
          "text": "The integral of the function from 0 to 2 is 0.4976611325089415 +- 8.019751529660287e-12\nThe number of function evaluations required was 513\n513\n",
          "name": "stdout"
        },
        {
          "output_type": "execute_result",
          "execution_count": 26,
          "data": {
            "text/plain": "[0.4976611325089415, 8.019751529660287e-12, 513, 1e-10]"
          },
          "metadata": {}
        }
      ]
    },
    {
      "metadata": {
        "trusted": true
      },
      "cell_type": "code",
      "source": "#Also turns out that this paricular integral is given by the error function. We can therefore use this to validate our results\nfrom scipy.special import erf\nerf(2)/2 - 0.49766113250947575",
      "execution_count": 27,
      "outputs": [
        {
          "output_type": "execute_result",
          "execution_count": 27,
          "data": {
            "text/plain": "6.106226635438361e-16"
          },
          "metadata": {}
        }
      ]
    },
    {
      "metadata": {
        "trusted": true
      },
      "cell_type": "code",
      "source": "#I will try to automate the evaluation of the two rules\n#hold data in an array = [integral,error,function evaliations, epsilon]\ndata = [] #make a list to hold the data\nfor exponent in range(6,14,1): #iterate for different values of relative accuracy evaluating the Simpson rule every time\n    print(exponent)\n    epsilon = 1 * 10 ** (-exponent)\n    data.append(sim_integrate(psi_squared,0,2,epsilon))\ndata #the output below can be copied and pasted to a new notebook for analysis",
      "execution_count": 28,
      "outputs": [
        {
          "output_type": "stream",
          "text": "6\nThe integral of the function from 0 to 2 is 0.49766113031942405 +- 3.285518696408377e-08\nThe number of function evaluations required was 65\n65\n7\nThe integral of the function from 0 to 2 is 0.49766113031942405 +- 3.285518696408377e-08\nThe number of function evaluations required was 65\n65\n8\nThe integral of the function from 0 to 2 is 0.49766113237260284 +- 2.0531788021191236e-09\nThe number of function evaluations required was 129\n129\n9\nThe integral of the function from 0 to 2 is 0.49766113250092175 +- 1.2831891108544706e-10\nThe number of function evaluations required was 257\n257\n10\nThe integral of the function from 0 to 2 is 0.4976611325089415 +- 8.019751529660287e-12\nThe number of function evaluations required was 513\n513\n11\nThe integral of the function from 0 to 2 is 0.4976611325094434 +- 5.018763182823081e-13\nThe number of function evaluations required was 1025\n1025\n12\nThe integral of the function from 0 to 2 is 0.49766113250947425 +- 3.0864200084581264e-14\nThe number of function evaluations required was 2049\n2049\n13\nThe integral of the function from 0 to 2 is 0.49766113250947425 +- 3.0864200084581264e-14\nThe number of function evaluations required was 2049\n2049\n",
          "name": "stdout"
        },
        {
          "output_type": "execute_result",
          "execution_count": 28,
          "data": {
            "text/plain": "[[0.49766113031942405, 3.285518696408377e-08, 65, 1e-06],\n [0.49766113031942405, 3.285518696408377e-08, 65, 1e-07],\n [0.49766113237260284, 2.0531788021191236e-09, 129, 1e-08],\n [0.49766113250092175, 1.2831891108544706e-10, 257, 1e-09],\n [0.4976611325089415, 8.019751529660287e-12, 513, 1e-10],\n [0.4976611325094434, 5.018763182823081e-13, 1025, 1e-11],\n [0.49766113250947425, 3.0864200084581264e-14, 2049, 1e-12],\n [0.49766113250947425, 3.0864200084581264e-14, 2049, 1e-13]]"
          },
          "metadata": {}
        }
      ]
    }
  ],
  "metadata": {
    "kernelspec": {
      "name": "python36",
      "display_name": "Python 3.6",
      "language": "python"
    },
    "language_info": {
      "mimetype": "text/x-python",
      "nbconvert_exporter": "python",
      "name": "python",
      "pygments_lexer": "ipython3",
      "version": "3.6.6",
      "file_extension": ".py",
      "codemirror_mode": {
        "version": 3,
        "name": "ipython"
      }
    }
  },
  "nbformat": 4,
  "nbformat_minor": 2
}